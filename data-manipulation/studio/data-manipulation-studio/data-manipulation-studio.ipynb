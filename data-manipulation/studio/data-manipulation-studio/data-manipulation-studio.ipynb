{
 "cells": [
  {
   "cell_type": "markdown",
   "id": "1894ccac",
   "metadata": {},
   "source": [
    "# Data Manipulation Studio\n",
    "\n",
    "For this studio, we will revisit the data set from our last studio. If you recall, California farmers were looking for advice on growing pumpkins. We will use the same [pumpkins dataset](https://www.kaggle.com/usda/a-year-of-pumpkin-prices) as provided by the U.S. Department of Agriculture. You may have to clean data in the process of data manipulation, so feel free to pull up your notebook from the last class's studio.\n",
    "\n",
    "We will now be focusing our attention on a different region in the United States, the Northeast. When you open up the `dataset` folder, you will have 13 CSVs, including the San Francisco and Los Angeles data from the last lesson. The 13 CSVs are each a different terminal market in the United States.\n",
    "\n",
    "A **terminal market** is a central site, often in a metropolitan area, that serves as an assembly and trading place for commodities. Terminal markets for agricultural commodities are usually at or near major transportation hubs. [Definition Source](https://en.wikipedia.org/wiki/Terminal_market#:~:text=A%20terminal%20market%20is%20a,or%20near%20major%20transportation%20hubs)\n",
    "\n",
    "## Getting Started\n",
    "\n",
    "Import the CSVs for each of the following cities: Baltimore, Boston, New York, and Philadelphia. Set up a dataframe for each city."
   ]
  },
  {
   "cell_type": "code",
   "execution_count": 49,
   "id": "66c9a7e7",
   "metadata": {},
   "outputs": [],
   "source": [
    "# Import the necessary libraries and CSVs. Make some dataframes!\n",
    "import pandas as pd\n",
    "import numpy as np\n",
    "\n",
    "baltimore = pd.read_csv(\"dataset/baltimore_9-24-2016_9-30-2017.csv\")\n",
    "boston = pd.read_csv(\"dataset/boston_9-24-2016_9-30-2017.csv\")\n",
    "newyork = pd.read_csv(\"dataset/new-york_9-24-2016_9-30-2017.csv\")\n",
    "philadelphia = pd.read_csv(\"dataset/philadelphia_9-24-2016_9-30-2017.csv\")"
   ]
  },
  {
   "cell_type": "markdown",
   "id": "6cfda42f",
   "metadata": {},
   "source": [
    "## Clean Your Data\n",
    "\n",
    "In the last lesson, we cleaned the data related to San Francisco. Pull up your notebook from the last lesson and use it as a reference to clean up these new dataframes."
   ]
  },
  {
   "cell_type": "code",
   "execution_count": 39,
   "id": "98abc290",
   "metadata": {},
   "outputs": [
    {
     "name": "stdout",
     "output_type": "stream",
     "text": [
      "Commodity Name - 0%\n",
      "City Name - 0%\n",
      "Type - 100%\n",
      "Package - 0%\n",
      "Variety - 1%\n",
      "Sub Variety - 84%\n",
      "Grade - 100%\n",
      "Date - 0%\n",
      "Low Price - 0%\n",
      "High Price - 0%\n",
      "Mostly Low - 0%\n",
      "Mostly High - 0%\n",
      "Origin - 3%\n",
      "Origin District - 100%\n",
      "Item Size - 16%\n",
      "Color - 80%\n",
      "Environment - 100%\n",
      "Unit of Sale - 84%\n",
      "Quality - 100%\n",
      "Condition - 100%\n",
      "Appearance - 100%\n",
      "Storage - 100%\n",
      "Crop - 100%\n",
      "Repack - 0%\n",
      "Trans Mode - 100%\n"
     ]
    }
   ],
   "source": [
    "# Clean your data here!\n",
    "for col in baltimore.columns:\n",
    "    pct_missing = np.mean(baltimore[col].isnull())\n",
    "    print('{} - {}%'.format(col, round(pct_missing*100)))"
   ]
  },
  {
   "cell_type": "code",
   "execution_count": 50,
   "id": "44a5947e-4f2a-452b-9007-62ca05e49905",
   "metadata": {},
   "outputs": [
    {
     "data": {
      "text/plain": [
       "(153, 19)"
      ]
     },
     "execution_count": 50,
     "metadata": {},
     "output_type": "execute_result"
    }
   ],
   "source": [
    "# Drop Baltimore\n",
    "clean_baltimore = baltimore.drop([\"Origin District\", \"Environment\", \"Quality\", \"Condition\", \"Appearance\", \"Storage\"], axis=1)\n",
    "clean_baltimore.shape"
   ]
  },
  {
   "cell_type": "code",
   "execution_count": 41,
   "id": "09eb20f8-d2f3-45e2-88c5-58169d67a72d",
   "metadata": {},
   "outputs": [
    {
     "name": "stdout",
     "output_type": "stream",
     "text": [
      "Commodity Name - 0%\n",
      "City Name - 0%\n",
      "Type - 100%\n",
      "Package - 0%\n",
      "Variety - 0%\n",
      "Sub Variety - 92%\n",
      "Grade - 100%\n",
      "Date - 0%\n",
      "Low Price - 0%\n",
      "High Price - 0%\n",
      "Mostly Low - 0%\n",
      "Mostly High - 0%\n",
      "Origin - 0%\n",
      "Origin District - 81%\n",
      "Item Size - 1%\n",
      "Color - 14%\n",
      "Environment - 100%\n",
      "Unit of Sale - 87%\n",
      "Quality - 100%\n",
      "Condition - 100%\n",
      "Appearance - 100%\n",
      "Storage - 100%\n",
      "Crop - 100%\n",
      "Repack - 0%\n",
      "Trans Mode - 100%\n"
     ]
    }
   ],
   "source": [
    "for col in boston.columns:\n",
    "    pct_missing = np.mean(boston[col].isnull())\n",
    "    print('{} - {}%'.format(col, round(pct_missing*100)))"
   ]
  },
  {
   "cell_type": "code",
   "execution_count": 51,
   "id": "8bc97e9e-9f9c-4a8e-89f7-501efdbf4efe",
   "metadata": {},
   "outputs": [
    {
     "data": {
      "text/plain": [
       "(352, 19)"
      ]
     },
     "execution_count": 51,
     "metadata": {},
     "output_type": "execute_result"
    }
   ],
   "source": [
    "# Drop Boston\n",
    "clean_boston = boston.drop([\"Origin District\", \"Environment\", \"Quality\", \"Condition\", \"Appearance\", \"Storage\"], axis=1)\n",
    "clean_boston.shape"
   ]
  },
  {
   "cell_type": "code",
   "execution_count": 43,
   "id": "4f8f73d9-4819-4af0-ae88-e6f9fd1dde08",
   "metadata": {},
   "outputs": [
    {
     "name": "stdout",
     "output_type": "stream",
     "text": [
      "Commodity Name - 0%\n",
      "City Name - 0%\n",
      "Type - 100%\n",
      "Package - 0%\n",
      "Variety - 0%\n",
      "Sub Variety - 84%\n",
      "Grade - 100%\n",
      "Date - 0%\n",
      "Low Price - 0%\n",
      "High Price - 0%\n",
      "Mostly Low - 0%\n",
      "Mostly High - 0%\n",
      "Origin - 0%\n",
      "Origin District - 87%\n",
      "Item Size - 7%\n",
      "Color - 81%\n",
      "Environment - 100%\n",
      "Unit of Sale - 78%\n",
      "Quality - 100%\n",
      "Condition - 100%\n",
      "Appearance - 100%\n",
      "Storage - 100%\n",
      "Crop - 100%\n",
      "Repack - 0%\n",
      "Trans Mode - 100%\n"
     ]
    }
   ],
   "source": [
    "for col in newyork.columns:\n",
    "    pct_missing = np.mean(newyork[col].isnull())\n",
    "    print('{} - {}%'.format(col, round(pct_missing*100)))"
   ]
  },
  {
   "cell_type": "code",
   "execution_count": 52,
   "id": "cdd16f2f-10a2-469c-bf31-284dd47d2abb",
   "metadata": {},
   "outputs": [
    {
     "data": {
      "text/plain": [
       "(112, 19)"
      ]
     },
     "execution_count": 52,
     "metadata": {},
     "output_type": "execute_result"
    }
   ],
   "source": [
    "# Drop New York\n",
    "clean_newyork = newyork.drop([\"Origin District\", \"Environment\", \"Quality\", \"Condition\", \"Appearance\", \"Storage\"], axis=1)\n",
    "clean_newyork.shape"
   ]
  },
  {
   "cell_type": "code",
   "execution_count": 45,
   "id": "feb1435f-d8b8-427e-b52a-a332172df55e",
   "metadata": {},
   "outputs": [
    {
     "name": "stdout",
     "output_type": "stream",
     "text": [
      "Commodity Name - 0%\n",
      "City Name - 0%\n",
      "Type - 100%\n",
      "Package - 0%\n",
      "Variety - 0%\n",
      "Sub Variety - 79%\n",
      "Grade - 100%\n",
      "Date - 0%\n",
      "Low Price - 0%\n",
      "High Price - 0%\n",
      "Mostly Low - 0%\n",
      "Mostly High - 0%\n",
      "Origin - 0%\n",
      "Origin District - 100%\n",
      "Item Size - 21%\n",
      "Color - 100%\n",
      "Environment - 100%\n",
      "Unit of Sale - 81%\n",
      "Quality - 100%\n",
      "Condition - 100%\n",
      "Appearance - 100%\n",
      "Storage - 100%\n",
      "Crop - 100%\n",
      "Repack - 0%\n",
      "Trans Mode - 100%\n"
     ]
    }
   ],
   "source": [
    "for col in philadelphia.columns:\n",
    "    pct_missing = np.mean(philadelphia[col].isnull())\n",
    "    print('{} - {}%'.format(col, round(pct_missing*100)))"
   ]
  },
  {
   "cell_type": "code",
   "execution_count": 53,
   "id": "85f2d7ff-5b50-4518-a849-a8f6e7af6efb",
   "metadata": {},
   "outputs": [
    {
     "data": {
      "text/plain": [
       "(57, 19)"
      ]
     },
     "execution_count": 53,
     "metadata": {},
     "output_type": "execute_result"
    }
   ],
   "source": [
    "# Drop philadelphia\n",
    "clean_philadelphia = philadelphia.drop([\"Origin District\", \"Environment\", \"Quality\", \"Condition\", \"Appearance\", \"Storage\"], axis=1)\n",
    "clean_philadelphia.shape"
   ]
  },
  {
   "cell_type": "markdown",
   "id": "e70b01b9",
   "metadata": {},
   "source": [
    "## Combine Your Data\n",
    "\n",
    "Now that you have four clean sets of data, combine all four into one dataframe that represents the entire Northeast region."
   ]
  },
  {
   "cell_type": "code",
   "execution_count": 54,
   "id": "da059f8a",
   "metadata": {},
   "outputs": [
    {
     "data": {
      "text/html": [
       "<div>\n",
       "<style scoped>\n",
       "    .dataframe tbody tr th:only-of-type {\n",
       "        vertical-align: middle;\n",
       "    }\n",
       "\n",
       "    .dataframe tbody tr th {\n",
       "        vertical-align: top;\n",
       "    }\n",
       "\n",
       "    .dataframe thead th {\n",
       "        text-align: right;\n",
       "    }\n",
       "</style>\n",
       "<table border=\"1\" class=\"dataframe\">\n",
       "  <thead>\n",
       "    <tr style=\"text-align: right;\">\n",
       "      <th></th>\n",
       "      <th>Commodity Name</th>\n",
       "      <th>City Name</th>\n",
       "      <th>Type</th>\n",
       "      <th>Package</th>\n",
       "      <th>Variety</th>\n",
       "      <th>Sub Variety</th>\n",
       "      <th>Grade</th>\n",
       "      <th>Date</th>\n",
       "      <th>Low Price</th>\n",
       "      <th>High Price</th>\n",
       "      <th>Mostly Low</th>\n",
       "      <th>Mostly High</th>\n",
       "      <th>Origin</th>\n",
       "      <th>Item Size</th>\n",
       "      <th>Color</th>\n",
       "      <th>Unit of Sale</th>\n",
       "      <th>Crop</th>\n",
       "      <th>Repack</th>\n",
       "      <th>Trans Mode</th>\n",
       "    </tr>\n",
       "  </thead>\n",
       "  <tbody>\n",
       "    <tr>\n",
       "      <th>0</th>\n",
       "      <td>PUMPKINS</td>\n",
       "      <td>BALTIMORE</td>\n",
       "      <td>NaN</td>\n",
       "      <td>24 inch bins</td>\n",
       "      <td>NaN</td>\n",
       "      <td>NaN</td>\n",
       "      <td>NaN</td>\n",
       "      <td>04/29/2017</td>\n",
       "      <td>270</td>\n",
       "      <td>280.0</td>\n",
       "      <td>270</td>\n",
       "      <td>280.0</td>\n",
       "      <td>NaN</td>\n",
       "      <td>lge</td>\n",
       "      <td>NaN</td>\n",
       "      <td>NaN</td>\n",
       "      <td>NaN</td>\n",
       "      <td>E</td>\n",
       "      <td>NaN</td>\n",
       "    </tr>\n",
       "    <tr>\n",
       "      <th>1</th>\n",
       "      <td>PUMPKINS</td>\n",
       "      <td>BALTIMORE</td>\n",
       "      <td>NaN</td>\n",
       "      <td>24 inch bins</td>\n",
       "      <td>NaN</td>\n",
       "      <td>NaN</td>\n",
       "      <td>NaN</td>\n",
       "      <td>05/06/2017</td>\n",
       "      <td>270</td>\n",
       "      <td>280.0</td>\n",
       "      <td>270</td>\n",
       "      <td>280.0</td>\n",
       "      <td>NaN</td>\n",
       "      <td>lge</td>\n",
       "      <td>NaN</td>\n",
       "      <td>NaN</td>\n",
       "      <td>NaN</td>\n",
       "      <td>E</td>\n",
       "      <td>NaN</td>\n",
       "    </tr>\n",
       "    <tr>\n",
       "      <th>2</th>\n",
       "      <td>PUMPKINS</td>\n",
       "      <td>BALTIMORE</td>\n",
       "      <td>NaN</td>\n",
       "      <td>24 inch bins</td>\n",
       "      <td>HOWDEN TYPE</td>\n",
       "      <td>NaN</td>\n",
       "      <td>NaN</td>\n",
       "      <td>09/24/2016</td>\n",
       "      <td>160</td>\n",
       "      <td>160.0</td>\n",
       "      <td>160</td>\n",
       "      <td>160.0</td>\n",
       "      <td>DELAWARE</td>\n",
       "      <td>med</td>\n",
       "      <td>NaN</td>\n",
       "      <td>NaN</td>\n",
       "      <td>NaN</td>\n",
       "      <td>N</td>\n",
       "      <td>NaN</td>\n",
       "    </tr>\n",
       "    <tr>\n",
       "      <th>3</th>\n",
       "      <td>PUMPKINS</td>\n",
       "      <td>BALTIMORE</td>\n",
       "      <td>NaN</td>\n",
       "      <td>24 inch bins</td>\n",
       "      <td>HOWDEN TYPE</td>\n",
       "      <td>NaN</td>\n",
       "      <td>NaN</td>\n",
       "      <td>09/24/2016</td>\n",
       "      <td>160</td>\n",
       "      <td>160.0</td>\n",
       "      <td>160</td>\n",
       "      <td>160.0</td>\n",
       "      <td>VIRGINIA</td>\n",
       "      <td>med</td>\n",
       "      <td>NaN</td>\n",
       "      <td>NaN</td>\n",
       "      <td>NaN</td>\n",
       "      <td>N</td>\n",
       "      <td>NaN</td>\n",
       "    </tr>\n",
       "    <tr>\n",
       "      <th>4</th>\n",
       "      <td>PUMPKINS</td>\n",
       "      <td>BALTIMORE</td>\n",
       "      <td>NaN</td>\n",
       "      <td>24 inch bins</td>\n",
       "      <td>HOWDEN TYPE</td>\n",
       "      <td>NaN</td>\n",
       "      <td>NaN</td>\n",
       "      <td>11/05/2016</td>\n",
       "      <td>90</td>\n",
       "      <td>100.0</td>\n",
       "      <td>90</td>\n",
       "      <td>100.0</td>\n",
       "      <td>MARYLAND</td>\n",
       "      <td>lge</td>\n",
       "      <td>NaN</td>\n",
       "      <td>NaN</td>\n",
       "      <td>NaN</td>\n",
       "      <td>N</td>\n",
       "      <td>NaN</td>\n",
       "    </tr>\n",
       "    <tr>\n",
       "      <th>...</th>\n",
       "      <td>...</td>\n",
       "      <td>...</td>\n",
       "      <td>...</td>\n",
       "      <td>...</td>\n",
       "      <td>...</td>\n",
       "      <td>...</td>\n",
       "      <td>...</td>\n",
       "      <td>...</td>\n",
       "      <td>...</td>\n",
       "      <td>...</td>\n",
       "      <td>...</td>\n",
       "      <td>...</td>\n",
       "      <td>...</td>\n",
       "      <td>...</td>\n",
       "      <td>...</td>\n",
       "      <td>...</td>\n",
       "      <td>...</td>\n",
       "      <td>...</td>\n",
       "      <td>...</td>\n",
       "    </tr>\n",
       "    <tr>\n",
       "      <th>52</th>\n",
       "      <td>PUMPKINS</td>\n",
       "      <td>PHILADELPHIA</td>\n",
       "      <td>NaN</td>\n",
       "      <td>1/2 bushel cartons</td>\n",
       "      <td>MINIATURE</td>\n",
       "      <td>FLAT TYPE</td>\n",
       "      <td>NaN</td>\n",
       "      <td>11/05/2016</td>\n",
       "      <td>16</td>\n",
       "      <td>18.0</td>\n",
       "      <td>16</td>\n",
       "      <td>18.0</td>\n",
       "      <td>OHIO</td>\n",
       "      <td>NaN</td>\n",
       "      <td>NaN</td>\n",
       "      <td>SHELLACKED</td>\n",
       "      <td>NaN</td>\n",
       "      <td>N</td>\n",
       "      <td>NaN</td>\n",
       "    </tr>\n",
       "    <tr>\n",
       "      <th>53</th>\n",
       "      <td>PUMPKINS</td>\n",
       "      <td>PHILADELPHIA</td>\n",
       "      <td>NaN</td>\n",
       "      <td>1/2 bushel cartons</td>\n",
       "      <td>MINIATURE</td>\n",
       "      <td>FLAT TYPE</td>\n",
       "      <td>NaN</td>\n",
       "      <td>08/26/2017</td>\n",
       "      <td>18</td>\n",
       "      <td>20.0</td>\n",
       "      <td>18</td>\n",
       "      <td>20.0</td>\n",
       "      <td>MICHIGAN</td>\n",
       "      <td>NaN</td>\n",
       "      <td>NaN</td>\n",
       "      <td>SHELLACKED</td>\n",
       "      <td>NaN</td>\n",
       "      <td>N</td>\n",
       "      <td>NaN</td>\n",
       "    </tr>\n",
       "    <tr>\n",
       "      <th>54</th>\n",
       "      <td>PUMPKINS</td>\n",
       "      <td>PHILADELPHIA</td>\n",
       "      <td>NaN</td>\n",
       "      <td>1/2 bushel cartons</td>\n",
       "      <td>MINIATURE</td>\n",
       "      <td>FLAT TYPE</td>\n",
       "      <td>NaN</td>\n",
       "      <td>09/16/2017</td>\n",
       "      <td>16</td>\n",
       "      <td>16.0</td>\n",
       "      <td>16</td>\n",
       "      <td>16.0</td>\n",
       "      <td>OHIO</td>\n",
       "      <td>NaN</td>\n",
       "      <td>NaN</td>\n",
       "      <td>SHELLACKED</td>\n",
       "      <td>NaN</td>\n",
       "      <td>N</td>\n",
       "      <td>NaN</td>\n",
       "    </tr>\n",
       "    <tr>\n",
       "      <th>55</th>\n",
       "      <td>PUMPKINS</td>\n",
       "      <td>PHILADELPHIA</td>\n",
       "      <td>NaN</td>\n",
       "      <td>1/2 bushel cartons</td>\n",
       "      <td>MINIATURE</td>\n",
       "      <td>FLAT TYPE</td>\n",
       "      <td>NaN</td>\n",
       "      <td>09/23/2017</td>\n",
       "      <td>15</td>\n",
       "      <td>16.0</td>\n",
       "      <td>15</td>\n",
       "      <td>16.0</td>\n",
       "      <td>OHIO</td>\n",
       "      <td>NaN</td>\n",
       "      <td>NaN</td>\n",
       "      <td>SHELLACKED</td>\n",
       "      <td>NaN</td>\n",
       "      <td>N</td>\n",
       "      <td>NaN</td>\n",
       "    </tr>\n",
       "    <tr>\n",
       "      <th>56</th>\n",
       "      <td>PUMPKINS</td>\n",
       "      <td>PHILADELPHIA</td>\n",
       "      <td>NaN</td>\n",
       "      <td>1/2 bushel cartons</td>\n",
       "      <td>MINIATURE</td>\n",
       "      <td>FLAT TYPE</td>\n",
       "      <td>NaN</td>\n",
       "      <td>09/30/2017</td>\n",
       "      <td>15</td>\n",
       "      <td>18.0</td>\n",
       "      <td>15</td>\n",
       "      <td>18.0</td>\n",
       "      <td>OHIO</td>\n",
       "      <td>NaN</td>\n",
       "      <td>NaN</td>\n",
       "      <td>SHELLACKED</td>\n",
       "      <td>NaN</td>\n",
       "      <td>N</td>\n",
       "      <td>NaN</td>\n",
       "    </tr>\n",
       "  </tbody>\n",
       "</table>\n",
       "<p>674 rows × 19 columns</p>\n",
       "</div>"
      ],
      "text/plain": [
       "   Commodity Name     City Name  Type             Package      Variety  \\\n",
       "0        PUMPKINS     BALTIMORE   NaN        24 inch bins          NaN   \n",
       "1        PUMPKINS     BALTIMORE   NaN        24 inch bins          NaN   \n",
       "2        PUMPKINS     BALTIMORE   NaN        24 inch bins  HOWDEN TYPE   \n",
       "3        PUMPKINS     BALTIMORE   NaN        24 inch bins  HOWDEN TYPE   \n",
       "4        PUMPKINS     BALTIMORE   NaN        24 inch bins  HOWDEN TYPE   \n",
       "..            ...           ...   ...                 ...          ...   \n",
       "52       PUMPKINS  PHILADELPHIA   NaN  1/2 bushel cartons    MINIATURE   \n",
       "53       PUMPKINS  PHILADELPHIA   NaN  1/2 bushel cartons    MINIATURE   \n",
       "54       PUMPKINS  PHILADELPHIA   NaN  1/2 bushel cartons    MINIATURE   \n",
       "55       PUMPKINS  PHILADELPHIA   NaN  1/2 bushel cartons    MINIATURE   \n",
       "56       PUMPKINS  PHILADELPHIA   NaN  1/2 bushel cartons    MINIATURE   \n",
       "\n",
       "   Sub Variety  Grade        Date  Low Price  High Price  Mostly Low  \\\n",
       "0          NaN    NaN  04/29/2017        270       280.0         270   \n",
       "1          NaN    NaN  05/06/2017        270       280.0         270   \n",
       "2          NaN    NaN  09/24/2016        160       160.0         160   \n",
       "3          NaN    NaN  09/24/2016        160       160.0         160   \n",
       "4          NaN    NaN  11/05/2016         90       100.0          90   \n",
       "..         ...    ...         ...        ...         ...         ...   \n",
       "52   FLAT TYPE    NaN  11/05/2016         16        18.0          16   \n",
       "53   FLAT TYPE    NaN  08/26/2017         18        20.0          18   \n",
       "54   FLAT TYPE    NaN  09/16/2017         16        16.0          16   \n",
       "55   FLAT TYPE    NaN  09/23/2017         15        16.0          15   \n",
       "56   FLAT TYPE    NaN  09/30/2017         15        18.0          15   \n",
       "\n",
       "    Mostly High    Origin Item Size Color Unit of Sale  Crop Repack  \\\n",
       "0         280.0       NaN       lge   NaN          NaN   NaN      E   \n",
       "1         280.0       NaN       lge   NaN          NaN   NaN      E   \n",
       "2         160.0  DELAWARE       med   NaN          NaN   NaN      N   \n",
       "3         160.0  VIRGINIA       med   NaN          NaN   NaN      N   \n",
       "4         100.0  MARYLAND       lge   NaN          NaN   NaN      N   \n",
       "..          ...       ...       ...   ...          ...   ...    ...   \n",
       "52         18.0      OHIO       NaN   NaN   SHELLACKED   NaN      N   \n",
       "53         20.0  MICHIGAN       NaN   NaN   SHELLACKED   NaN      N   \n",
       "54         16.0      OHIO       NaN   NaN   SHELLACKED   NaN      N   \n",
       "55         16.0      OHIO       NaN   NaN   SHELLACKED   NaN      N   \n",
       "56         18.0      OHIO       NaN   NaN   SHELLACKED   NaN      N   \n",
       "\n",
       "    Trans Mode  \n",
       "0          NaN  \n",
       "1          NaN  \n",
       "2          NaN  \n",
       "3          NaN  \n",
       "4          NaN  \n",
       "..         ...  \n",
       "52         NaN  \n",
       "53         NaN  \n",
       "54         NaN  \n",
       "55         NaN  \n",
       "56         NaN  \n",
       "\n",
       "[674 rows x 19 columns]"
      ]
     },
     "execution_count": 54,
     "metadata": {},
     "output_type": "execute_result"
    }
   ],
   "source": [
    "# Combine the four dataframes into one!\n",
    "northeast_region = pd.concat([clean_baltimore, clean_boston, clean_newyork, clean_philadelphia], axis=0)\n",
    "northeast_region"
   ]
  },
  {
   "cell_type": "markdown",
   "id": "8590082f",
   "metadata": {},
   "source": [
    "## Answer Some Questions\n",
    "\n",
    "Use `groupby()` and `agg()` to answer the following two questions:\n",
    "\n",
    "1. What is the mean low and high prices for each type of **unit of sale** in the Northeast region? \n",
    "2. For each region, what is the average number of pumpkins per variety that came into terminal markets? "
   ]
  },
  {
   "cell_type": "code",
   "execution_count": 58,
   "id": "c839639a",
   "metadata": {},
   "outputs": [
    {
     "data": {
      "text/plain": [
       "(               Low Price\n",
       " Unit of Sale            \n",
       " EACH           47.916667\n",
       " PER BIN       185.845070\n",
       " SHELLACKED     16.000000,\n",
       "               High Price\n",
       " Unit of Sale            \n",
       " EACH           59.166667\n",
       " PER BIN       206.619718\n",
       " SHELLACKED     17.545455)"
      ]
     },
     "execution_count": 58,
     "metadata": {},
     "output_type": "execute_result"
    }
   ],
   "source": [
    "# Put your code here to find the mean low and high prices in the Northeast region for each type of unit of sale.\n",
    "low_mean = northeast_region.groupby([\"Unit of Sale\"]).agg({'Low Price': 'mean'})\n",
    "high_mean = northeast_region.groupby([\"Unit of Sale\"]).agg({'High Price': 'mean'})\n",
    "low_mean, high_mean"
   ]
  },
  {
   "cell_type": "code",
   "execution_count": 64,
   "id": "b4b23352",
   "metadata": {},
   "outputs": [
    {
     "data": {
      "text/plain": [
       "City Name     Variety                 \n",
       "BALTIMORE     MINIATURE                    30\n",
       "              PIE TYPE                     26\n",
       "              CINDERELLA                   25\n",
       "              HOWDEN TYPE                  25\n",
       "              BIG MACK TYPE                24\n",
       "              FAIRYTALE                    16\n",
       "              MIXED HEIRLOOM VARIETIES      3\n",
       "              HOWDEN WHITE TYPE             2\n",
       "BOSTON        HOWDEN TYPE                 132\n",
       "              PIE TYPE                    114\n",
       "              BIG MACK TYPE                29\n",
       "              MINIATURE                    28\n",
       "              FAIRYTALE                    21\n",
       "              CINDERELLA                   14\n",
       "              BLUE TYPE                     7\n",
       "              KNUCKLE HEAD                  7\n",
       "NEW YORK      PIE TYPE                     42\n",
       "              HOWDEN TYPE                  39\n",
       "              MINIATURE                    27\n",
       "              BIG MACK TYPE                 2\n",
       "              KNUCKLE HEAD                  1\n",
       "              MIXED HEIRLOOM VARIETIES      1\n",
       "PHILADELPHIA  HOWDEN TYPE                  28\n",
       "              PIE TYPE                     16\n",
       "              MINIATURE                    12\n",
       "              KNUCKLE HEAD                  1\n",
       "Name: count, dtype: int64"
      ]
     },
     "execution_count": 64,
     "metadata": {},
     "output_type": "execute_result"
    }
   ],
   "source": [
    "# Put your code here to find the average number of pumpkins coming into terminal markets of each variety.\n",
    "mean_count_variety = northeast_region.groupby([\"City Name\"])[\"Variety\"].value_counts()\n",
    "mean_count_variety"
   ]
  },
  {
   "cell_type": "markdown",
   "id": "a2e5cff4",
   "metadata": {},
   "source": [
    "## Bonus Mission\n",
    "\n",
    "Try answering the same questions for the Midwest (Chicago, Detroit, and St. Louis) or the Southeast (Atlanta, Columbia, and Miami) regions."
   ]
  },
  {
   "cell_type": "code",
   "execution_count": 59,
   "id": "1d22b7fd",
   "metadata": {},
   "outputs": [],
   "source": [
    "# Try the bonus mission if you have time!"
   ]
  },
  {
   "cell_type": "code",
   "execution_count": null,
   "id": "09dbc152",
   "metadata": {},
   "outputs": [],
   "source": []
  }
 ],
 "metadata": {
  "kernelspec": {
   "display_name": "Python (venv2)",
   "language": "python",
   "name": "venv2"
  },
  "language_info": {
   "codemirror_mode": {
    "name": "ipython",
    "version": 3
   },
   "file_extension": ".py",
   "mimetype": "text/x-python",
   "name": "python",
   "nbconvert_exporter": "python",
   "pygments_lexer": "ipython3",
   "version": "3.12.5"
  }
 },
 "nbformat": 4,
 "nbformat_minor": 5
}
