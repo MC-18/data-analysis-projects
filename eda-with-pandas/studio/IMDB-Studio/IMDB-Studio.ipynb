{
 "cells": [
  {
   "cell_type": "markdown",
   "id": "2f470e67-1623-4416-b9c2-8367f7834a26",
   "metadata": {},
   "source": [
    "# Exploratory Data Analysis with pandas Studio\n",
    "\n",
    "## Data Analysis of IMDB movies data\n",
    "\n",
    "#### Blocks have been created for your code\n",
    "\n",
    "#### Click on the following link and download the dataset from [Kaggle](https://www.kaggle.com/PromptCloudHQ/imdb-data)."
   ]
  },
  {
   "cell_type": "markdown",
   "id": "34632281-1e15-44b1-a3e3-b82ddacb5cbd",
   "metadata": {},
   "source": [
    "### 1. Read data"
   ]
  },
  {
   "cell_type": "code",
   "execution_count": 8,
   "id": "070ebed9-c948-4821-9a24-67f0e3fe8fce",
   "metadata": {},
   "outputs": [],
   "source": [
    "# import pandas\n",
    "import pandas as pd\n",
    "# create your data variabe using .read_csv \n",
    "movie_data = pd.read_csv(\"/Users/owner/Desktop/LC/IMDB-Movie-Data.csv\")\n",
    "\n",
    "# create your data_indexed variable here\n",
    "movie_indexed = pd.read_csv(\"/Users/owner/Desktop/LC/IMDB-Movie-Data.csv\", index_col = 'Title')"
   ]
  },
  {
   "cell_type": "code",
   "execution_count": null,
   "id": "608c357a-271b-49c1-9b96-68b5c1cb7046",
   "metadata": {},
   "outputs": [],
   "source": [
    "# If you are having trouble reading your file, try finding the path.  \n",
    "    # Right click on your data set, on the pop-up menu select \"Copy Path\" then paste it into your read_csv() function."
   ]
  },
  {
   "cell_type": "code",
   "execution_count": 17,
   "id": "5d8b578c-750c-491b-98d5-140a237ad940",
   "metadata": {},
   "outputs": [
    {
     "name": "stdout",
     "output_type": "stream",
     "text": [
      "                         Rank                     Genre  \\\n",
      "Title                                                     \n",
      "Guardians of the Galaxy     1   Action,Adventure,Sci-Fi   \n",
      "Prometheus                  2  Adventure,Mystery,Sci-Fi   \n",
      "Split                       3           Horror,Thriller   \n",
      "Sing                        4   Animation,Comedy,Family   \n",
      "Suicide Squad               5  Action,Adventure,Fantasy   \n",
      "...                       ...                       ...   \n",
      "Secret in Their Eyes      996       Crime,Drama,Mystery   \n",
      "Hostel: Part II           997                    Horror   \n",
      "Step Up 2: The Streets    998       Drama,Music,Romance   \n",
      "Search Party              999          Adventure,Comedy   \n",
      "Nine Lives               1000     Comedy,Family,Fantasy   \n",
      "\n",
      "                                                               Description  \\\n",
      "Title                                                                        \n",
      "Guardians of the Galaxy  A group of intergalactic criminals are forced ...   \n",
      "Prometheus               Following clues to the origin of mankind, a te...   \n",
      "Split                    Three girls are kidnapped by a man with a diag...   \n",
      "Sing                     In a city of humanoid animals, a hustling thea...   \n",
      "Suicide Squad            A secret government agency recruits some of th...   \n",
      "...                                                                    ...   \n",
      "Secret in Their Eyes     A tight-knit team of rising investigators, alo...   \n",
      "Hostel: Part II          Three American college students studying abroa...   \n",
      "Step Up 2: The Streets   Romantic sparks occur between two dance studen...   \n",
      "Search Party             A pair of friends embark on a mission to reuni...   \n",
      "Nine Lives               A stuffy businessman finds himself trapped ins...   \n",
      "\n",
      "                                     Director  \\\n",
      "Title                                           \n",
      "Guardians of the Galaxy            James Gunn   \n",
      "Prometheus                       Ridley Scott   \n",
      "Split                      M. Night Shyamalan   \n",
      "Sing                     Christophe Lourdelet   \n",
      "Suicide Squad                      David Ayer   \n",
      "...                                       ...   \n",
      "Secret in Their Eyes                Billy Ray   \n",
      "Hostel: Part II                      Eli Roth   \n",
      "Step Up 2: The Streets             Jon M. Chu   \n",
      "Search Party                   Scot Armstrong   \n",
      "Nine Lives                   Barry Sonnenfeld   \n",
      "\n",
      "                                                                    Actors  \\\n",
      "Title                                                                        \n",
      "Guardians of the Galaxy  Chris Pratt, Vin Diesel, Bradley Cooper, Zoe S...   \n",
      "Prometheus               Noomi Rapace, Logan Marshall-Green, Michael Fa...   \n",
      "Split                    James McAvoy, Anya Taylor-Joy, Haley Lu Richar...   \n",
      "Sing                     Matthew McConaughey,Reese Witherspoon, Seth Ma...   \n",
      "Suicide Squad            Will Smith, Jared Leto, Margot Robbie, Viola D...   \n",
      "...                                                                    ...   \n",
      "Secret in Their Eyes     Chiwetel Ejiofor, Nicole Kidman, Julia Roberts...   \n",
      "Hostel: Part II          Lauren German, Heather Matarazzo, Bijou Philli...   \n",
      "Step Up 2: The Streets   Robert Hoffman, Briana Evigan, Cassie Ventura,...   \n",
      "Search Party             Adam Pally, T.J. Miller, Thomas Middleditch,Sh...   \n",
      "Nine Lives               Kevin Spacey, Jennifer Garner, Robbie Amell,Ch...   \n",
      "\n",
      "                         Year  Runtime (Minutes)  Rating   Votes  \\\n",
      "Title                                                              \n",
      "Guardians of the Galaxy  2014                121     8.1  757074   \n",
      "Prometheus               2012                124     7.0  485820   \n",
      "Split                    2016                117     7.3  157606   \n",
      "Sing                     2016                108     7.2   60545   \n",
      "Suicide Squad            2016                123     6.2  393727   \n",
      "...                       ...                ...     ...     ...   \n",
      "Secret in Their Eyes     2015                111     6.2   27585   \n",
      "Hostel: Part II          2007                 94     5.5   73152   \n",
      "Step Up 2: The Streets   2008                 98     6.2   70699   \n",
      "Search Party             2014                 93     5.6    4881   \n",
      "Nine Lives               2016                 87     5.3   12435   \n",
      "\n",
      "                         Revenue (Millions)  Metascore  \n",
      "Title                                                   \n",
      "Guardians of the Galaxy              333.13       76.0  \n",
      "Prometheus                           126.46       65.0  \n",
      "Split                                138.12       62.0  \n",
      "Sing                                 270.32       59.0  \n",
      "Suicide Squad                        325.02       40.0  \n",
      "...                                     ...        ...  \n",
      "Secret in Their Eyes                    NaN       45.0  \n",
      "Hostel: Part II                       17.54       46.0  \n",
      "Step Up 2: The Streets                58.01       50.0  \n",
      "Search Party                            NaN       22.0  \n",
      "Nine Lives                            19.64       11.0  \n",
      "\n",
      "[1000 rows x 11 columns]\n"
     ]
    }
   ],
   "source": [
    "# Read data with specified explicit index\n",
    "movie_dataframe = pd.DataFrame(movie_indexed)\n",
    "# movie_title = movie_dataframe[\"Title\"]\n",
    "\n",
    "#print(data_indexed)\n",
    "print(movie_indexed)\n",
    "# print(movie_title)"
   ]
  },
  {
   "cell_type": "markdown",
   "id": "f449d3ea-91fe-45f5-8d6b-e6ccab3502d7",
   "metadata": {
    "tags": []
   },
   "source": [
    "### 2. View Data\n",
    "#### As we go through this section, write your own definitions of what each function does as a comment in the code box."
   ]
  },
  {
   "cell_type": "code",
   "execution_count": 18,
   "id": "ac9b2d61-7ed5-4e83-995d-c498036f37f9",
   "metadata": {},
   "outputs": [
    {
     "name": "stdout",
     "output_type": "stream",
     "text": [
      "                         Rank                     Genre  \\\n",
      "Title                                                     \n",
      "Guardians of the Galaxy     1   Action,Adventure,Sci-Fi   \n",
      "Prometheus                  2  Adventure,Mystery,Sci-Fi   \n",
      "Split                       3           Horror,Thriller   \n",
      "Sing                        4   Animation,Comedy,Family   \n",
      "Suicide Squad               5  Action,Adventure,Fantasy   \n",
      "\n",
      "                                                               Description  \\\n",
      "Title                                                                        \n",
      "Guardians of the Galaxy  A group of intergalactic criminals are forced ...   \n",
      "Prometheus               Following clues to the origin of mankind, a te...   \n",
      "Split                    Three girls are kidnapped by a man with a diag...   \n",
      "Sing                     In a city of humanoid animals, a hustling thea...   \n",
      "Suicide Squad            A secret government agency recruits some of th...   \n",
      "\n",
      "                                     Director  \\\n",
      "Title                                           \n",
      "Guardians of the Galaxy            James Gunn   \n",
      "Prometheus                       Ridley Scott   \n",
      "Split                      M. Night Shyamalan   \n",
      "Sing                     Christophe Lourdelet   \n",
      "Suicide Squad                      David Ayer   \n",
      "\n",
      "                                                                    Actors  \\\n",
      "Title                                                                        \n",
      "Guardians of the Galaxy  Chris Pratt, Vin Diesel, Bradley Cooper, Zoe S...   \n",
      "Prometheus               Noomi Rapace, Logan Marshall-Green, Michael Fa...   \n",
      "Split                    James McAvoy, Anya Taylor-Joy, Haley Lu Richar...   \n",
      "Sing                     Matthew McConaughey,Reese Witherspoon, Seth Ma...   \n",
      "Suicide Squad            Will Smith, Jared Leto, Margot Robbie, Viola D...   \n",
      "\n",
      "                         Year  Runtime (Minutes)  Rating   Votes  \\\n",
      "Title                                                              \n",
      "Guardians of the Galaxy  2014                121     8.1  757074   \n",
      "Prometheus               2012                124     7.0  485820   \n",
      "Split                    2016                117     7.3  157606   \n",
      "Sing                     2016                108     7.2   60545   \n",
      "Suicide Squad            2016                123     6.2  393727   \n",
      "\n",
      "                         Revenue (Millions)  Metascore  \n",
      "Title                                                   \n",
      "Guardians of the Galaxy              333.13       76.0  \n",
      "Prometheus                           126.46       65.0  \n",
      "Split                                138.12       62.0  \n",
      "Sing                                 270.32       59.0  \n",
      "Suicide Squad                        325.02       40.0  \n"
     ]
    }
   ],
   "source": [
    "# Use the head() function to view the first 5 rows of the data set\n",
    "print(movie_dataframe.head(5))\n"
   ]
  },
  {
   "cell_type": "code",
   "execution_count": 19,
   "id": "3fffca4b-90f4-4f73-a9af-f0b02886f8b3",
   "metadata": {},
   "outputs": [
    {
     "name": "stdout",
     "output_type": "stream",
     "text": [
      "                        Rank                  Genre  \\\n",
      "Title                                                 \n",
      "Secret in Their Eyes     996    Crime,Drama,Mystery   \n",
      "Hostel: Part II          997                 Horror   \n",
      "Step Up 2: The Streets   998    Drama,Music,Romance   \n",
      "Search Party             999       Adventure,Comedy   \n",
      "Nine Lives              1000  Comedy,Family,Fantasy   \n",
      "\n",
      "                                                              Description  \\\n",
      "Title                                                                       \n",
      "Secret in Their Eyes    A tight-knit team of rising investigators, alo...   \n",
      "Hostel: Part II         Three American college students studying abroa...   \n",
      "Step Up 2: The Streets  Romantic sparks occur between two dance studen...   \n",
      "Search Party            A pair of friends embark on a mission to reuni...   \n",
      "Nine Lives              A stuffy businessman finds himself trapped ins...   \n",
      "\n",
      "                                Director  \\\n",
      "Title                                      \n",
      "Secret in Their Eyes           Billy Ray   \n",
      "Hostel: Part II                 Eli Roth   \n",
      "Step Up 2: The Streets        Jon M. Chu   \n",
      "Search Party              Scot Armstrong   \n",
      "Nine Lives              Barry Sonnenfeld   \n",
      "\n",
      "                                                                   Actors  \\\n",
      "Title                                                                       \n",
      "Secret in Their Eyes    Chiwetel Ejiofor, Nicole Kidman, Julia Roberts...   \n",
      "Hostel: Part II         Lauren German, Heather Matarazzo, Bijou Philli...   \n",
      "Step Up 2: The Streets  Robert Hoffman, Briana Evigan, Cassie Ventura,...   \n",
      "Search Party            Adam Pally, T.J. Miller, Thomas Middleditch,Sh...   \n",
      "Nine Lives              Kevin Spacey, Jennifer Garner, Robbie Amell,Ch...   \n",
      "\n",
      "                        Year  Runtime (Minutes)  Rating  Votes  \\\n",
      "Title                                                            \n",
      "Secret in Their Eyes    2015                111     6.2  27585   \n",
      "Hostel: Part II         2007                 94     5.5  73152   \n",
      "Step Up 2: The Streets  2008                 98     6.2  70699   \n",
      "Search Party            2014                 93     5.6   4881   \n",
      "Nine Lives              2016                 87     5.3  12435   \n",
      "\n",
      "                        Revenue (Millions)  Metascore  \n",
      "Title                                                  \n",
      "Secret in Their Eyes                   NaN       45.0  \n",
      "Hostel: Part II                      17.54       46.0  \n",
      "Step Up 2: The Streets               58.01       50.0  \n",
      "Search Party                           NaN       22.0  \n",
      "Nine Lives                           19.64       11.0  \n"
     ]
    }
   ],
   "source": [
    "# Use the tail() function to view the last 5 rows of the data set\n",
    "print(movie_dataframe.tail(5))\n"
   ]
  },
  {
   "cell_type": "markdown",
   "id": "e03bbc57-a8cf-48da-9057-3b1f6b642a08",
   "metadata": {},
   "source": [
    "### 3. Understand basic information about the data\n",
    "#### As we go through this section, write your own definitions of what each function does as a comment in the code box."
   ]
  },
  {
   "cell_type": "code",
   "execution_count": 20,
   "id": "f303e7fb-0e02-48e2-8390-66eefca899aa",
   "metadata": {},
   "outputs": [
    {
     "name": "stdout",
     "output_type": "stream",
     "text": [
      "<class 'pandas.core.frame.DataFrame'>\n",
      "Index: 1000 entries, Guardians of the Galaxy to Nine Lives\n",
      "Data columns (total 11 columns):\n",
      " #   Column              Non-Null Count  Dtype  \n",
      "---  ------              --------------  -----  \n",
      " 0   Rank                1000 non-null   int64  \n",
      " 1   Genre               1000 non-null   object \n",
      " 2   Description         1000 non-null   object \n",
      " 3   Director            1000 non-null   object \n",
      " 4   Actors              1000 non-null   object \n",
      " 5   Year                1000 non-null   int64  \n",
      " 6   Runtime (Minutes)   1000 non-null   int64  \n",
      " 7   Rating              1000 non-null   float64\n",
      " 8   Votes               1000 non-null   int64  \n",
      " 9   Revenue (Millions)  872 non-null    float64\n",
      " 10  Metascore           936 non-null    float64\n",
      "dtypes: float64(3), int64(4), object(4)\n",
      "memory usage: 93.8+ KB\n",
      "None\n"
     ]
    }
   ],
   "source": [
    "# The info() function: \n",
    "print(movie_dataframe.info())\n"
   ]
  },
  {
   "cell_type": "code",
   "execution_count": 22,
   "id": "ade5ce1f-7a2a-4940-a0f9-eed7891154ff",
   "metadata": {},
   "outputs": [
    {
     "name": "stdout",
     "output_type": "stream",
     "text": [
      "(1000, 11)\n"
     ]
    }
   ],
   "source": [
    "# shape:\n",
    "print(movie_dataframe.shape)\n",
    "\n",
    "# what information does shape provide?  what is the order?\n",
    "Shape returns the number of rows and column, respectively."
   ]
  },
  {
   "cell_type": "code",
   "execution_count": 23,
   "id": "791db782-5041-4259-a3e4-d14c6e2e248a",
   "metadata": {},
   "outputs": [
    {
     "name": "stdout",
     "output_type": "stream",
     "text": [
      "Index(['Rank', 'Genre', 'Description', 'Director', 'Actors', 'Year',\n",
      "       'Runtime (Minutes)', 'Rating', 'Votes', 'Revenue (Millions)',\n",
      "       'Metascore'],\n",
      "      dtype='object')\n"
     ]
    }
   ],
   "source": [
    "# columns:\n",
    "print(movie_dataframe.columns)\n",
    "\n",
    "# what information does columns provide?\n",
    "Tells us the column labels within the DataFrame as a list!"
   ]
  },
  {
   "cell_type": "code",
   "execution_count": 24,
   "id": "994c8783-3f4b-4f56-b9fb-1b50193f1fab",
   "metadata": {},
   "outputs": [
    {
     "name": "stdout",
     "output_type": "stream",
     "text": [
      "<bound method NDFrame.describe of                          Rank                     Genre  \\\n",
      "Title                                                     \n",
      "Guardians of the Galaxy     1   Action,Adventure,Sci-Fi   \n",
      "Prometheus                  2  Adventure,Mystery,Sci-Fi   \n",
      "Split                       3           Horror,Thriller   \n",
      "Sing                        4   Animation,Comedy,Family   \n",
      "Suicide Squad               5  Action,Adventure,Fantasy   \n",
      "...                       ...                       ...   \n",
      "Secret in Their Eyes      996       Crime,Drama,Mystery   \n",
      "Hostel: Part II           997                    Horror   \n",
      "Step Up 2: The Streets    998       Drama,Music,Romance   \n",
      "Search Party              999          Adventure,Comedy   \n",
      "Nine Lives               1000     Comedy,Family,Fantasy   \n",
      "\n",
      "                                                               Description  \\\n",
      "Title                                                                        \n",
      "Guardians of the Galaxy  A group of intergalactic criminals are forced ...   \n",
      "Prometheus               Following clues to the origin of mankind, a te...   \n",
      "Split                    Three girls are kidnapped by a man with a diag...   \n",
      "Sing                     In a city of humanoid animals, a hustling thea...   \n",
      "Suicide Squad            A secret government agency recruits some of th...   \n",
      "...                                                                    ...   \n",
      "Secret in Their Eyes     A tight-knit team of rising investigators, alo...   \n",
      "Hostel: Part II          Three American college students studying abroa...   \n",
      "Step Up 2: The Streets   Romantic sparks occur between two dance studen...   \n",
      "Search Party             A pair of friends embark on a mission to reuni...   \n",
      "Nine Lives               A stuffy businessman finds himself trapped ins...   \n",
      "\n",
      "                                     Director  \\\n",
      "Title                                           \n",
      "Guardians of the Galaxy            James Gunn   \n",
      "Prometheus                       Ridley Scott   \n",
      "Split                      M. Night Shyamalan   \n",
      "Sing                     Christophe Lourdelet   \n",
      "Suicide Squad                      David Ayer   \n",
      "...                                       ...   \n",
      "Secret in Their Eyes                Billy Ray   \n",
      "Hostel: Part II                      Eli Roth   \n",
      "Step Up 2: The Streets             Jon M. Chu   \n",
      "Search Party                   Scot Armstrong   \n",
      "Nine Lives                   Barry Sonnenfeld   \n",
      "\n",
      "                                                                    Actors  \\\n",
      "Title                                                                        \n",
      "Guardians of the Galaxy  Chris Pratt, Vin Diesel, Bradley Cooper, Zoe S...   \n",
      "Prometheus               Noomi Rapace, Logan Marshall-Green, Michael Fa...   \n",
      "Split                    James McAvoy, Anya Taylor-Joy, Haley Lu Richar...   \n",
      "Sing                     Matthew McConaughey,Reese Witherspoon, Seth Ma...   \n",
      "Suicide Squad            Will Smith, Jared Leto, Margot Robbie, Viola D...   \n",
      "...                                                                    ...   \n",
      "Secret in Their Eyes     Chiwetel Ejiofor, Nicole Kidman, Julia Roberts...   \n",
      "Hostel: Part II          Lauren German, Heather Matarazzo, Bijou Philli...   \n",
      "Step Up 2: The Streets   Robert Hoffman, Briana Evigan, Cassie Ventura,...   \n",
      "Search Party             Adam Pally, T.J. Miller, Thomas Middleditch,Sh...   \n",
      "Nine Lives               Kevin Spacey, Jennifer Garner, Robbie Amell,Ch...   \n",
      "\n",
      "                         Year  Runtime (Minutes)  Rating   Votes  \\\n",
      "Title                                                              \n",
      "Guardians of the Galaxy  2014                121     8.1  757074   \n",
      "Prometheus               2012                124     7.0  485820   \n",
      "Split                    2016                117     7.3  157606   \n",
      "Sing                     2016                108     7.2   60545   \n",
      "Suicide Squad            2016                123     6.2  393727   \n",
      "...                       ...                ...     ...     ...   \n",
      "Secret in Their Eyes     2015                111     6.2   27585   \n",
      "Hostel: Part II          2007                 94     5.5   73152   \n",
      "Step Up 2: The Streets   2008                 98     6.2   70699   \n",
      "Search Party             2014                 93     5.6    4881   \n",
      "Nine Lives               2016                 87     5.3   12435   \n",
      "\n",
      "                         Revenue (Millions)  Metascore  \n",
      "Title                                                   \n",
      "Guardians of the Galaxy              333.13       76.0  \n",
      "Prometheus                           126.46       65.0  \n",
      "Split                                138.12       62.0  \n",
      "Sing                                 270.32       59.0  \n",
      "Suicide Squad                        325.02       40.0  \n",
      "...                                     ...        ...  \n",
      "Secret in Their Eyes                    NaN       45.0  \n",
      "Hostel: Part II                       17.54       46.0  \n",
      "Step Up 2: The Streets                58.01       50.0  \n",
      "Search Party                            NaN       22.0  \n",
      "Nine Lives                            19.64       11.0  \n",
      "\n",
      "[1000 rows x 11 columns]>\n"
     ]
    }
   ],
   "source": [
    "# The describe() function: \n",
    "print(movie_dataframe.describe)\n"
   ]
  },
  {
   "cell_type": "markdown",
   "id": "7293ea51-6d32-43ab-8d26-268bdea21de1",
   "metadata": {},
   "source": [
    "### 4. Data Selection -- Indexing and Slicing"
   ]
  },
  {
   "cell_type": "code",
   "execution_count": null,
   "id": "b3e134af-4ef9-4a9f-9ee1-d507905764e7",
   "metadata": {},
   "outputs": [],
   "source": [
    "#  Extract data as series\n",
    "# define and print the variable 'genre'\n",
    "\n"
   ]
  },
  {
   "cell_type": "code",
   "execution_count": null,
   "id": "33307a39-0656-4598-8489-55bc80a253eb",
   "metadata": {},
   "outputs": [],
   "source": [
    "# Extract the data as a dataframe and print it\n",
    "\n",
    "\n"
   ]
  },
  {
   "cell_type": "code",
   "execution_count": null,
   "id": "0530ffd1-e143-4a7a-a4e2-c2e88de188f9",
   "metadata": {},
   "outputs": [],
   "source": [
    "# Extract data using rows\n",
    "\n",
    "# loc function\n",
    "\n"
   ]
  },
  {
   "cell_type": "code",
   "execution_count": null,
   "id": "7ed5a16d-7302-4c0c-bf9e-0295a8cee090",
   "metadata": {},
   "outputs": [],
   "source": [
    "# iloc function\n",
    "\n"
   ]
  },
  {
   "cell_type": "markdown",
   "id": "35d10282-730f-49c3-bca1-55a990811c80",
   "metadata": {},
   "source": [
    "### 5. Data Selection - Based on Conditional Filtering"
   ]
  },
  {
   "cell_type": "code",
   "execution_count": null,
   "id": "97cac6a1-dd88-4a8c-86e8-514312bf1bb0",
   "metadata": {},
   "outputs": [],
   "source": [
    "# Use the code block to select movies that have been released between 2010-2016, with a rating of less than 6.0, but generated a signifianct (top) revenue.\n",
    "\n"
   ]
  },
  {
   "cell_type": "code",
   "execution_count": 117,
   "id": "f0c045a1-200a-4d58-9b9f-480edb106765",
   "metadata": {},
   "outputs": [],
   "source": [
    "# Note: The article is expecting more than 1 Twilight movie at the time of publishing.  \n",
    "#To find the second Twilight movie, try manipulating the quantile value.  \n",
    "#How specific can you get?"
   ]
  },
  {
   "cell_type": "code",
   "execution_count": null,
   "id": "5f04a46e-5d8e-4bda-a917-945bdc81a9e2",
   "metadata": {},
   "outputs": [],
   "source": []
  }
 ],
 "metadata": {
  "kernelspec": {
   "display_name": "Python 3 (ipykernel)",
   "language": "python",
   "name": "python3"
  },
  "language_info": {
   "codemirror_mode": {
    "name": "ipython",
    "version": 3
   },
   "file_extension": ".py",
   "mimetype": "text/x-python",
   "name": "python",
   "nbconvert_exporter": "python",
   "pygments_lexer": "ipython3",
   "version": "3.12.5"
  }
 },
 "nbformat": 4,
 "nbformat_minor": 5
}
