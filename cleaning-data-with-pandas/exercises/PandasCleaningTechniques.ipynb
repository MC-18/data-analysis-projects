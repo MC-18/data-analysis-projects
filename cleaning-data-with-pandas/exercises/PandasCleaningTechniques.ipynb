{
 "cells": [
  {
   "cell_type": "markdown",
   "metadata": {},
   "source": [
    "# Cleaning Data with Pandas Exercises\n",
    "\n",
    "For the exercises, you will be cleaning data in the Women's Clothing E-Commerce Reviews dataset.\n",
    "\n",
    "To start cleaning data, we first need to create a dataframe from the CSV and print out any relevant info to make sure our dataframe is ready to go."
   ]
  },
  {
   "cell_type": "code",
   "execution_count": 7,
   "metadata": {},
   "outputs": [],
   "source": [
    "# Import pandas and any other libraries you need here.\n",
    "# import pandas as pd\n",
    "# import numpy as np\n",
    "# !pip install matplotlib\n",
    "# import matplotlib.pyplot as plt\n",
    "# Create a new dataframe from your CSV\n",
    "women_clothing = pd.read_csv('/Users/owner/Desktop/LC/data-analysis-projects/cleaning-data-with-pandas/exercises/Womens Clothing E-Commerce Reviews.csv')"
   ]
  },
  {
   "cell_type": "code",
   "execution_count": 22,
   "metadata": {},
   "outputs": [
    {
     "name": "stdout",
     "output_type": "stream",
     "text": [
      "Index(['Unnamed: 0', 'Clothing ID', 'Age', 'Title', 'Review Text', 'Rating',\n",
      "       'Recommended IND', 'Positive Feedback Count', 'Division Name',\n",
      "       'Department Name', 'Class Name'],\n",
      "      dtype='object')\n",
      "(23486, 11)\n",
      "         Unnamed: 0   Clothing ID           Age        Rating  \\\n",
      "count  23486.000000  23486.000000  23486.000000  23486.000000   \n",
      "mean   11742.500000    918.118709     43.198544      4.196032   \n",
      "std     6779.968547    203.298980     12.279544      1.110031   \n",
      "min        0.000000      0.000000     18.000000      1.000000   \n",
      "25%     5871.250000    861.000000     34.000000      4.000000   \n",
      "50%    11742.500000    936.000000     41.000000      5.000000   \n",
      "75%    17613.750000   1078.000000     52.000000      5.000000   \n",
      "max    23485.000000   1205.000000     99.000000      5.000000   \n",
      "\n",
      "       Recommended IND  Positive Feedback Count  \n",
      "count     23486.000000             23486.000000  \n",
      "mean          0.822362                 2.535936  \n",
      "std           0.382216                 5.702202  \n",
      "min           0.000000                 0.000000  \n",
      "25%           1.000000                 0.000000  \n",
      "50%           1.000000                 1.000000  \n",
      "75%           1.000000                 3.000000  \n",
      "max           1.000000               122.000000  \n",
      "<class 'pandas.core.frame.DataFrame'>\n",
      "RangeIndex: 23486 entries, 0 to 23485\n",
      "Data columns (total 11 columns):\n",
      " #   Column                   Non-Null Count  Dtype \n",
      "---  ------                   --------------  ----- \n",
      " 0   Unnamed: 0               23486 non-null  int64 \n",
      " 1   Clothing ID              23486 non-null  int64 \n",
      " 2   Age                      23486 non-null  int64 \n",
      " 3   Title                    19676 non-null  object\n",
      " 4   Review Text              22641 non-null  object\n",
      " 5   Rating                   23486 non-null  int64 \n",
      " 6   Recommended IND          23486 non-null  int64 \n",
      " 7   Positive Feedback Count  23486 non-null  int64 \n",
      " 8   Division Name            23472 non-null  object\n",
      " 9   Department Name          23472 non-null  object\n",
      " 10  Class Name               23472 non-null  object\n",
      "dtypes: int64(6), object(5)\n",
      "memory usage: 2.0+ MB\n",
      "None\n"
     ]
    }
   ],
   "source": [
    "# Print out any information you need to understand your dataframe\n",
    "#print(women_clothing.to_string())\n",
    "print(women_clothing.columns)\n",
    "print(women_clothing.shape)\n",
    "print(women_clothing.describe())\n",
    "print(women_clothing.info())"
   ]
  },
  {
   "cell_type": "markdown",
   "metadata": {},
   "source": [
    "## Missing Data\n",
    "\n",
    "Try out different methods to locate and resolve missing data."
   ]
  },
  {
   "cell_type": "code",
   "execution_count": null,
   "metadata": {},
   "outputs": [],
   "source": [
    "# Try to find some missing data!\n"
   ]
  },
  {
   "cell_type": "markdown",
   "metadata": {},
   "source": [
    "Did you find any missing data? What things worked well for you and what did not?"
   ]
  },
  {
   "cell_type": "code",
   "execution_count": null,
   "metadata": {},
   "outputs": [],
   "source": [
    "# Respond to the above questions here:"
   ]
  },
  {
   "cell_type": "markdown",
   "metadata": {},
   "source": [
    "## Irregular Data\n",
    "\n",
    "With missing data out of the way, turn your attention to any outliers. Just as we did for missing data, we first need to detect the outliers."
   ]
  },
  {
   "cell_type": "code",
   "execution_count": null,
   "metadata": {},
   "outputs": [],
   "source": [
    "# Keep an eye out for outliers!"
   ]
  },
  {
   "cell_type": "markdown",
   "metadata": {},
   "source": [
    "What techniques helped you find outliers? In your opinion, what about the techniques you used made them effective?"
   ]
  },
  {
   "cell_type": "code",
   "execution_count": null,
   "metadata": {},
   "outputs": [],
   "source": [
    "# Make your notes here:"
   ]
  },
  {
   "cell_type": "markdown",
   "metadata": {},
   "source": [
    "## Unnecessary Data\n",
    "\n",
    "Unnecessary data could be irrelevant to your analysis or a duplice column. Check out the dataset to see if there is any unnecessary data."
   ]
  },
  {
   "cell_type": "code",
   "execution_count": null,
   "metadata": {},
   "outputs": [],
   "source": [
    "# Look out for unnecessary data!"
   ]
  },
  {
   "cell_type": "markdown",
   "metadata": {},
   "source": [
    "Did you find any unnecessary data in your dataset? How did you handle it?"
   ]
  },
  {
   "cell_type": "code",
   "execution_count": null,
   "metadata": {},
   "outputs": [],
   "source": [
    "# Make your notes here."
   ]
  },
  {
   "cell_type": "markdown",
   "metadata": {},
   "source": [
    "## Inconsistent Data\n",
    "\n",
    "Inconsistent data is likely due to inconsistent formatting and can be addressed by re-formatting all values in a column or row."
   ]
  },
  {
   "cell_type": "code",
   "execution_count": null,
   "metadata": {},
   "outputs": [],
   "source": [
    "# Look out for inconsistent data!"
   ]
  },
  {
   "cell_type": "markdown",
   "metadata": {},
   "source": [
    "Did you find any inconsistent data? What did you do to clean it?"
   ]
  },
  {
   "cell_type": "code",
   "execution_count": null,
   "metadata": {},
   "outputs": [],
   "source": [
    "# Make your notes here!"
   ]
  }
 ],
 "metadata": {
  "kernelspec": {
   "display_name": "Python 3",
   "language": "python",
   "name": "python3"
  },
  "language_info": {
   "codemirror_mode": {
    "name": "ipython",
    "version": 3
   },
   "file_extension": ".py",
   "mimetype": "text/x-python",
   "name": "python",
   "nbconvert_exporter": "python",
   "pygments_lexer": "ipython3",
   "version": "3.12.5"
  }
 },
 "nbformat": 4,
 "nbformat_minor": 2
}
